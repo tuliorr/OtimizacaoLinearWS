{
 "cells": [
  {
   "cell_type": "markdown",
   "id": "a41d80ec",
   "metadata": {},
   "source": [
    "# Workshop - Otimização Linear\n",
    "\n",
    "Ministrado pelo prof. Rommel Dias<br>\n",
    "Universidade de Fortaleza - UNIFOR"
   ]
  },
  {
   "cell_type": "markdown",
   "id": "8f8ed123",
   "metadata": {},
   "source": [
    "## Problemas de roteamento\n",
    "\n",
    "* Caixeiro viajante\n",
    "* Caminho mínimo\n",
    "* etc.\n",
    "\n",
    "## Problemas de corte regular (bidimensional)\n",
    "\n",
    "## Problemas de corte irregular (bidimensional)\n",
    "\n",
    "## Problemas de empacotamento (tridimensional)"
   ]
  },
  {
   "cell_type": "markdown",
   "id": "a9c801c2",
   "metadata": {},
   "source": [
    "## Importação dos pacotes"
   ]
  },
  {
   "cell_type": "markdown",
   "id": "6e5e9b9d",
   "metadata": {},
   "source": [
    "O Google OR-Tools é um conjunto de software gratuito e de código aberto desenvolvido pelo Google para resolver problemas de programação linear, programação inteira mista, programação de restrições, roteamento de veículos e problemas de otimização relacionados"
   ]
  },
  {
   "cell_type": "code",
   "execution_count": 1,
   "id": "1374a74c",
   "metadata": {},
   "outputs": [],
   "source": [
    "# !pip install ortools\n",
    "from ortools.linear_solver import pywraplp"
   ]
  },
  {
   "cell_type": "markdown",
   "id": "de689199",
   "metadata": {},
   "source": [
    "## Modelos de Programação Linear"
   ]
  },
  {
   "cell_type": "markdown",
   "id": "ad33a9e3",
   "metadata": {},
   "source": [
    "**Passos:**\n",
    "\n",
    "    1. Declarar o solucionador (solver) para resolver problemas inteiros\n",
    "\n",
    "    2. Declarar também um valor muito grande (infinito)\n",
    "    \n",
    "    3. Declarar as variáveis de decisão do modelo\n",
    "    \n",
    "    4. Declarar as restrições do modelo\n",
    "    \n",
    "    5. Declarar a função objetivo\n",
    "    \n",
    "    6. Resolver o modelo e armazenar o status\n",
    "    \n",
    "    7. Inspecionar os logs de saída\n",
    "    \n",
    "    8. Mostrar o modelo\n",
    "    \n",
    "**NOTA: Alguns passos podem ser modificados ou excluídos a depender do tipo de problema**"
   ]
  },
  {
   "cell_type": "markdown",
   "id": "fdabff5d",
   "metadata": {},
   "source": [
    "### Caso I\n",
    "\n",
    "* Variável do tipo inteira"
   ]
  },
  {
   "cell_type": "code",
   "execution_count": 2,
   "id": "808a502a",
   "metadata": {
    "id": "bQJBspwlp0lg"
   },
   "outputs": [],
   "source": [
    "# Declarar o solucionador (solver) para resolver problemas inteiros\n",
    "solver = pywraplp.Solver.CreateSolver('SCIP')\n",
    "\n",
    "# Declarar também um valor muito grande (infinito)\n",
    "infinity = solver.infinity()"
   ]
  },
  {
   "cell_type": "code",
   "execution_count": 3,
   "id": "669fb40e",
   "metadata": {
    "id": "Buhg0Mo4qOcO"
   },
   "outputs": [],
   "source": [
    "# Declarar as variáveis de decisão do modelo\n",
    "x1 = solver.IntVar(0, infinity, 'Calças')\n",
    "x2 = solver.IntVar(0, infinity, 'Saias') "
   ]
  },
  {
   "cell_type": "code",
   "execution_count": 4,
   "id": "f9837582",
   "metadata": {
    "colab": {
     "base_uri": "https://localhost:8080/"
    },
    "id": "sihUd6cJqxyz",
    "outputId": "aa06051a-c11f-4fa3-bfa7-0e80e53408e7"
   },
   "outputs": [
    {
     "data": {
      "text/plain": [
       "<ortools.linear_solver.pywraplp.Constraint; proxy of <Swig Object of type 'operations_research::MPConstraint *' at 0x00000262D9F6E720> >"
      ]
     },
     "execution_count": 4,
     "metadata": {},
     "output_type": "execute_result"
    }
   ],
   "source": [
    "# Declarar as restrições do modelo\n",
    "solver.Add(2 * x1 + 1 * x2 <= 50, 'Tecido')\n",
    "solver.Add(1 * x1 + 3 * x2 <= 90, 'Botão')"
   ]
  },
  {
   "cell_type": "code",
   "execution_count": 5,
   "id": "320a0271",
   "metadata": {
    "id": "oB-9ZIiDrUfG"
   },
   "outputs": [],
   "source": [
    "# Declarar a função objetivo\n",
    "solver.Maximize(10 * x1 + 20 * x2)"
   ]
  },
  {
   "cell_type": "code",
   "execution_count": 6,
   "id": "463a4e99",
   "metadata": {
    "id": "f8naLRrPrfF9"
   },
   "outputs": [],
   "source": [
    "# Resolver o modelo e armazenar o status\n",
    "status = solver.Solve()"
   ]
  },
  {
   "cell_type": "code",
   "execution_count": 7,
   "id": "77c20378",
   "metadata": {
    "colab": {
     "base_uri": "https://localhost:8080/"
    },
    "id": "QlKG0Ig-rmLj",
    "outputId": "ccb8236a-721b-4a6a-9dc8-2674c3d1daa4"
   },
   "outputs": [
    {
     "name": "stdout",
     "output_type": "stream",
     "text": [
      "Solução: \n",
      "Valor da função objetivo (máximo da função) =  640.0\n",
      "x1 (quantidade de calças) =  12.0\n",
      "x2 (quantidade de saias) =  26.0\n"
     ]
    }
   ],
   "source": [
    "# Inspecionar os logs de saída\n",
    "if status == pywraplp.Solver.OPTIMAL:\n",
    "    \n",
    "    print('Solução: ')\n",
    "    print('Valor da função objetivo (máximo da função) = ', solver.Objective().Value())\n",
    "    print('x1 (quantidade de calças) = ', x1.solution_value())\n",
    "    print('x2 (quantidade de saias) = ', x2.solution_value())\n",
    "\n",
    "else:\n",
    "    print('Problema sem solução ótima')"
   ]
  },
  {
   "cell_type": "code",
   "execution_count": 8,
   "id": "529fd957",
   "metadata": {
    "colab": {
     "base_uri": "https://localhost:8080/"
    },
    "id": "3GjVObzCtP8b",
    "outputId": "47f50eaa-755b-4dd3-e1eb-a924009008b9"
   },
   "outputs": [
    {
     "name": "stdout",
     "output_type": "stream",
     "text": [
      "\\ Generated by MPModelProtoExporter\n",
      "\\   Name             : \n",
      "\\   Format           : Free\n",
      "\\   Constraints      : 2\n",
      "\\   Variables        : 2\n",
      "\\     Binary         : 0\n",
      "\\     Integer        : 2\n",
      "\\     Continuous     : 0\n",
      "Maximize\n",
      " Obj: +10 Calças +20 Saias \n",
      "Subject to\n",
      " Tecido: +2 Calças +1 Saias  <= 50\n",
      " Botão: +1 Calças +3 Saias  <= 90\n",
      "Bounds\n",
      " 0 <= Calças <= inf\n",
      " 0 <= Saias <= inf\n",
      "Generals\n",
      " Calças\n",
      " Saias\n",
      "End\n",
      "\n"
     ]
    }
   ],
   "source": [
    "# Mostrar o modelo\n",
    "print(solver.ExportModelAsLpFormat(False))"
   ]
  },
  {
   "cell_type": "markdown",
   "id": "f59e6f81",
   "metadata": {
    "id": "Yn_RCUg1uJAN"
   },
   "source": [
    "### Caso II\n",
    "\n",
    "* Variável do tipo inteira"
   ]
  },
  {
   "cell_type": "code",
   "execution_count": 9,
   "id": "d85e758d",
   "metadata": {
    "id": "V1183RxluHXo"
   },
   "outputs": [],
   "source": [
    "solver = pywraplp.Solver.CreateSolver('SCIP')\n",
    "infinity = solver.infinity()"
   ]
  },
  {
   "cell_type": "code",
   "execution_count": 10,
   "id": "1349fda1",
   "metadata": {
    "id": "Bn3YEWk8uHXs"
   },
   "outputs": [],
   "source": [
    "x1 = solver.IntVar(0, infinity, 'terno') # quantidade de ternos\n",
    "x2 = solver.IntVar(0, infinity, 'vestido') # quantidade de vestidos"
   ]
  },
  {
   "cell_type": "code",
   "execution_count": 11,
   "id": "a927c74c",
   "metadata": {
    "colab": {
     "base_uri": "https://localhost:8080/"
    },
    "id": "d1zzOrxWuHXt",
    "outputId": "2b1d920d-0d7d-432f-a9ba-447701f9476f"
   },
   "outputs": [
    {
     "data": {
      "text/plain": [
       "<ortools.linear_solver.pywraplp.Constraint; proxy of <Swig Object of type 'operations_research::MPConstraint *' at 0x00000262D9F6EDB0> >"
      ]
     },
     "execution_count": 11,
     "metadata": {},
     "output_type": "execute_result"
    }
   ],
   "source": [
    "# tecidos\n",
    "# 16 algodao\n",
    "# 11 seda\n",
    "# 15 la\n",
    "\n",
    "# terno\n",
    "# 2 algodao\n",
    "# 1 seda\n",
    "# 1 la\n",
    "\n",
    "# vestido\n",
    "# 1 algodao\n",
    "# 2 seda\n",
    "# 3 la\n",
    "\n",
    "solver.Add(2 * x1 + 1 * x2 <= 16, 'algodao')\n",
    "solver.Add(1 * x1 + 2 * x2 <= 11, 'seda')\n",
    "solver.Add(1 * x1 + 3 * x2 <= 15, 'lã')"
   ]
  },
  {
   "cell_type": "code",
   "execution_count": 12,
   "id": "6d44b57f",
   "metadata": {
    "id": "4USQbNVFuHXu"
   },
   "outputs": [],
   "source": [
    "solver.Maximize(300 * x1 + 500 * x2)"
   ]
  },
  {
   "cell_type": "code",
   "execution_count": 13,
   "id": "f483731a",
   "metadata": {
    "id": "46PxzfH2uHXv"
   },
   "outputs": [],
   "source": [
    "status = solver.Solve()"
   ]
  },
  {
   "cell_type": "code",
   "execution_count": 14,
   "id": "0c64777b",
   "metadata": {
    "colab": {
     "base_uri": "https://localhost:8080/"
    },
    "id": "nq446M6kuHXv",
    "outputId": "3c19d8e7-481c-43d2-a90f-093873cc49ea"
   },
   "outputs": [
    {
     "name": "stdout",
     "output_type": "stream",
     "text": [
      "Solução: \n",
      "Valor da função objetivo =  3100.0\n",
      "x1 =  7.0\n",
      "x2 =  2.0\n"
     ]
    }
   ],
   "source": [
    "if status == pywraplp.Solver.OPTIMAL:\n",
    "    print('Solução: ')\n",
    "    print('Valor da função objetivo = ', solver.Objective().Value())\n",
    "    print('x1 = ', x1.solution_value())\n",
    "    print('x2 = ', x2.solution_value())\n",
    "\n",
    "else:\n",
    "    print('Problema sem solução ótima')"
   ]
  },
  {
   "cell_type": "code",
   "execution_count": 15,
   "id": "da774578",
   "metadata": {
    "colab": {
     "base_uri": "https://localhost:8080/"
    },
    "id": "shuw65nzuHXw",
    "outputId": "f8b23a48-72d5-431f-a13c-639b920f15bd"
   },
   "outputs": [
    {
     "name": "stdout",
     "output_type": "stream",
     "text": [
      "\\ Generated by MPModelProtoExporter\n",
      "\\   Name             : \n",
      "\\   Format           : Free\n",
      "\\   Constraints      : 3\n",
      "\\   Variables        : 2\n",
      "\\     Binary         : 0\n",
      "\\     Integer        : 2\n",
      "\\     Continuous     : 0\n",
      "Maximize\n",
      " Obj: +300 terno +500 vestido \n",
      "Subject to\n",
      " algodao: +2 terno +1 vestido  <= 16\n",
      " seda: +1 terno +2 vestido  <= 11\n",
      " lã: +1 terno +3 vestido  <= 15\n",
      "Bounds\n",
      " 0 <= terno <= inf\n",
      " 0 <= vestido <= inf\n",
      "Generals\n",
      " terno\n",
      " vestido\n",
      "End\n",
      "\n"
     ]
    }
   ],
   "source": [
    "print(solver.ExportModelAsLpFormat(False))"
   ]
  },
  {
   "cell_type": "markdown",
   "id": "7b9e1bdf",
   "metadata": {
    "id": "6rq5TaWJwYYl"
   },
   "source": [
    "### Caso III\n",
    "\n",
    "* Variável do tipo fracionada (float)"
   ]
  },
  {
   "cell_type": "code",
   "execution_count": 16,
   "id": "9d820033",
   "metadata": {
    "id": "XEDO0FLAwYYl"
   },
   "outputs": [],
   "source": [
    "solver = pywraplp.Solver.CreateSolver('GLOP')\n",
    "infinity = solver.infinity()"
   ]
  },
  {
   "cell_type": "code",
   "execution_count": 17,
   "id": "d02514e5",
   "metadata": {
    "id": "u1dfKU9gwYYm"
   },
   "outputs": [],
   "source": [
    "x1 = solver.NumVar(0, infinity, 'produto A') \n",
    "x2 = solver.NumVar(0, infinity, 'produto B')"
   ]
  },
  {
   "cell_type": "code",
   "execution_count": 18,
   "id": "84437810",
   "metadata": {
    "colab": {
     "base_uri": "https://localhost:8080/"
    },
    "id": "rR0XHBYdwYYm",
    "outputId": "1b18e084-db0a-4abd-dc10-55fadd94ed7d"
   },
   "outputs": [
    {
     "data": {
      "text/plain": [
       "<ortools.linear_solver.pywraplp.Constraint; proxy of <Swig Object of type 'operations_research::MPConstraint *' at 0x00000262DAF76D50> >"
      ]
     },
     "execution_count": 18,
     "metadata": {},
     "output_type": "execute_result"
    }
   ],
   "source": [
    "solver.Add(3 * x1 + 6 * x2 >= 15, 'proteina')\n",
    "solver.Add(10 * x1 + 5 * x2 >= 20, 'carbo')"
   ]
  },
  {
   "cell_type": "code",
   "execution_count": 19,
   "id": "e5364e3b",
   "metadata": {
    "id": "YpgdgiSlwYYn"
   },
   "outputs": [],
   "source": [
    "solver.Minimize(2 * x1 + 3 * x2)"
   ]
  },
  {
   "cell_type": "code",
   "execution_count": 20,
   "id": "ed2b3f7b",
   "metadata": {
    "id": "KBkimvhTwYYn"
   },
   "outputs": [],
   "source": [
    "status = solver.Solve()"
   ]
  },
  {
   "cell_type": "code",
   "execution_count": 21,
   "id": "ace8a085",
   "metadata": {
    "colab": {
     "base_uri": "https://localhost:8080/"
    },
    "id": "Pq1tB8qYwYYo",
    "outputId": "5438896a-2798-4f1e-8708-fe66cf4a415c"
   },
   "outputs": [
    {
     "name": "stdout",
     "output_type": "stream",
     "text": [
      "Solução: \n",
      "Valor da função objetivo =  8.0\n",
      "x1 =  1.0\n",
      "x2 =  2.0\n"
     ]
    }
   ],
   "source": [
    "if status == pywraplp.Solver.OPTIMAL:\n",
    "    print('Solução: ')\n",
    "    print('Valor da função objetivo = ', solver.Objective().Value())\n",
    "    print('x1 = ', x1.solution_value())\n",
    "    print('x2 = ', x2.solution_value())\n",
    "\n",
    "else:\n",
    "    print('Problema sem solução ótima')"
   ]
  },
  {
   "cell_type": "code",
   "execution_count": 22,
   "id": "78d229bf",
   "metadata": {
    "colab": {
     "base_uri": "https://localhost:8080/"
    },
    "id": "b3bgW-S6wYYo",
    "outputId": "8c920654-6c2c-4577-e178-2d11b509ea5c"
   },
   "outputs": [
    {
     "name": "stdout",
     "output_type": "stream",
     "text": [
      "\\ Generated by MPModelProtoExporter\n",
      "\\   Name             : \n",
      "\\   Format           : Free\n",
      "\\   Constraints      : 2\n",
      "\\   Variables        : 2\n",
      "\\     Binary         : 0\n",
      "\\     Integer        : 0\n",
      "\\     Continuous     : 2\n",
      "Minimize\n",
      " Obj: +2 produto_A +3 produto_B \n",
      "Subject to\n",
      " proteina: +3 produto_A +6 produto_B  >= 15\n",
      " carbo: +10 produto_A +5 produto_B  >= 20\n",
      "Bounds\n",
      " 0 <= produto_A\n",
      " 0 <= produto_B\n",
      "End\n",
      "\n"
     ]
    }
   ],
   "source": [
    "print(solver.ExportModelAsLpFormat(False))"
   ]
  },
  {
   "cell_type": "markdown",
   "id": "c2224d2b",
   "metadata": {
    "id": "ARNMauzMyeST"
   },
   "source": [
    "### Caso IV\n",
    "\n",
    "* Variável do tipo inteira"
   ]
  },
  {
   "cell_type": "code",
   "execution_count": 23,
   "id": "396d95b6",
   "metadata": {
    "id": "ZZBhsc7fyFJU"
   },
   "outputs": [],
   "source": [
    "# banco vende 30 custa 5 consome 4h\n",
    "# cadeira vende 50 custa 10 consome 8h\n",
    "# mesa vende 75 custa 25 consome 6h\n",
    "# 190 horas por mes\n",
    "# fabricar:\n",
    "# minimo 12 bancos\n",
    "# máximo de 8 mesas\n",
    "# banco + cadeira >= 4 * mesas"
   ]
  },
  {
   "cell_type": "code",
   "execution_count": 24,
   "id": "9dd407e0",
   "metadata": {
    "id": "gL0KDqmZzavx"
   },
   "outputs": [],
   "source": [
    "solver = pywraplp.Solver.CreateSolver('SCIP')\n",
    "infinity = solver.infinity()"
   ]
  },
  {
   "cell_type": "code",
   "execution_count": 25,
   "id": "8f703d20",
   "metadata": {
    "id": "Jw3vd4Cdzavx"
   },
   "outputs": [],
   "source": [
    "x1 = solver.IntVar(12, infinity, 'banco') \n",
    "x2 = solver.IntVar(0, infinity, 'cadeira')\n",
    "x3 = solver.IntVar(0, 8, 'mesa')"
   ]
  },
  {
   "cell_type": "code",
   "execution_count": 26,
   "id": "f0de9dee",
   "metadata": {
    "colab": {
     "base_uri": "https://localhost:8080/"
    },
    "id": "jxQvQ4SXzavy",
    "outputId": "67de01c4-34e6-4050-e83e-624d9c3e0bb4"
   },
   "outputs": [
    {
     "data": {
      "text/plain": [
       "<ortools.linear_solver.pywraplp.Constraint; proxy of <Swig Object of type 'operations_research::MPConstraint *' at 0x00000262DAF7D540> >"
      ]
     },
     "execution_count": 26,
     "metadata": {},
     "output_type": "execute_result"
    }
   ],
   "source": [
    "solver.Add(4 * x1 + 8 * x2 + 6 * x3 <= 190, 'horas')\n",
    "# solver.Add(x1 >= 12, 'banco')\n",
    "# solver.Add(x3 <= 8, 'mesa')\n",
    "solver.Add(x1 + x2 - 4 * x3 >= 0, 'banco, cadeira e mesa')"
   ]
  },
  {
   "cell_type": "code",
   "execution_count": 27,
   "id": "1e69c7a9",
   "metadata": {
    "id": "Zp6bytVtzavy"
   },
   "outputs": [],
   "source": [
    "solver.Maximize(30 * x1 + 50 * x2 + 75 * x3 - 5 * x1 - 10 * x2 - 25 * x3)"
   ]
  },
  {
   "cell_type": "code",
   "execution_count": 28,
   "id": "22db1ae8",
   "metadata": {
    "id": "snyDES0Izavy"
   },
   "outputs": [],
   "source": [
    "status = solver.Solve()"
   ]
  },
  {
   "cell_type": "code",
   "execution_count": 29,
   "id": "38823780",
   "metadata": {
    "colab": {
     "base_uri": "https://localhost:8080/"
    },
    "id": "A82hmAqKzavz",
    "outputId": "d26038a4-ccc0-4363-f63b-615da1e9cbf8"
   },
   "outputs": [
    {
     "name": "stdout",
     "output_type": "stream",
     "text": [
      "Solução: \n",
      "Valor da função objetivo =  1275.0\n",
      "x1 =  35.0\n",
      "x2 =  0.0\n",
      "x3 =  8.0\n"
     ]
    }
   ],
   "source": [
    "if status == pywraplp.Solver.OPTIMAL:\n",
    "    print('Solução: ')\n",
    "    print('Valor da função objetivo = ', solver.Objective().Value())\n",
    "    print('x1 = ', x1.solution_value())\n",
    "    print('x2 = ', x2.solution_value())\n",
    "    print('x3 = ', x3.solution_value())\n",
    "\n",
    "else:\n",
    "    print('Problema sem solução ótima')"
   ]
  },
  {
   "cell_type": "markdown",
   "id": "7d11a576",
   "metadata": {
    "id": "ph6rqaw_2_YR"
   },
   "source": [
    "### Caso V\n",
    "\n",
    "* Variável do tipo binária"
   ]
  },
  {
   "cell_type": "code",
   "execution_count": 30,
   "id": "bf2a8d13",
   "metadata": {
    "id": "cyHG_gmF3Bj5"
   },
   "outputs": [],
   "source": [
    "solver = pywraplp.Solver.CreateSolver('SCIP')"
   ]
  },
  {
   "cell_type": "code",
   "execution_count": 31,
   "id": "bd6d333e",
   "metadata": {
    "id": "E6dWzOvf3XGi"
   },
   "outputs": [],
   "source": [
    "t1 = solver.BoolVar('tarefa1')\n",
    "t2 = solver.BoolVar('tarefa2')\n",
    "t3 = solver.BoolVar('tarefa3')\n",
    "t4 = solver.BoolVar('tarefa4')\n",
    "t5 = solver.BoolVar('tarefa5')"
   ]
  },
  {
   "cell_type": "code",
   "execution_count": 32,
   "id": "fffee239",
   "metadata": {
    "colab": {
     "base_uri": "https://localhost:8080/"
    },
    "id": "xgQNviPk3i66",
    "outputId": "ba2a0b7b-7454-4a11-bc52-99318f4c15ab"
   },
   "outputs": [
    {
     "data": {
      "text/plain": [
       "<ortools.linear_solver.pywraplp.Constraint; proxy of <Swig Object of type 'operations_research::MPConstraint *' at 0x00000262DAF7D1E0> >"
      ]
     },
     "execution_count": 32,
     "metadata": {},
     "output_type": "execute_result"
    }
   ],
   "source": [
    "solver.Add(5 * t1 + 7 * t2 + 4 * t3 + 3 * t4 + 2 * t5 <= 14, 'Knapsack')"
   ]
  },
  {
   "cell_type": "code",
   "execution_count": 33,
   "id": "217d5676",
   "metadata": {
    "id": "89q2Yvk_37hM"
   },
   "outputs": [],
   "source": [
    "solver.Maximize(80 * t1 + 110 * t2 + 60 * t3 + 40 * t4 + 35 * t5)"
   ]
  },
  {
   "cell_type": "code",
   "execution_count": 34,
   "id": "58c0d238",
   "metadata": {
    "id": "oNyLD6aa37hM"
   },
   "outputs": [],
   "source": [
    "status = solver.Solve()"
   ]
  },
  {
   "cell_type": "code",
   "execution_count": 35,
   "id": "39d2b858",
   "metadata": {
    "colab": {
     "base_uri": "https://localhost:8080/"
    },
    "id": "2AzlPKMw37hM",
    "outputId": "1eced4ad-686b-4a68-ae3c-33040449a58b"
   },
   "outputs": [
    {
     "name": "stdout",
     "output_type": "stream",
     "text": [
      "Solução: \n",
      "Valor da função objetivo =  225.0\n",
      "tarefa 1 =  1.0\n",
      "tarefa 2 =  1.0\n",
      "tarefa 3 =  0.0\n",
      "tarefa 4 =  0.0\n",
      "tarefa 5 =  1.0\n"
     ]
    }
   ],
   "source": [
    "if status == pywraplp.Solver.OPTIMAL:\n",
    "    print('Solução: ')\n",
    "    print('Valor da função objetivo = ', solver.Objective().Value())\n",
    "    print('tarefa 1 = ', t1.solution_value())\n",
    "    print('tarefa 2 = ', t2.solution_value())\n",
    "    print('tarefa 3 = ', t3.solution_value())\n",
    "    print('tarefa 4 = ', t4.solution_value())\n",
    "    print('tarefa 5 = ', t5.solution_value())\n",
    "\n",
    "else:\n",
    "    print('Problema sem solução ótima')"
   ]
  }
 ],
 "metadata": {
  "kernelspec": {
   "display_name": "Python 3 (ipykernel)",
   "language": "python",
   "name": "python3"
  },
  "language_info": {
   "codemirror_mode": {
    "name": "ipython",
    "version": 3
   },
   "file_extension": ".py",
   "mimetype": "text/x-python",
   "name": "python",
   "nbconvert_exporter": "python",
   "pygments_lexer": "ipython3",
   "version": "3.10.9"
  }
 },
 "nbformat": 4,
 "nbformat_minor": 5
}
